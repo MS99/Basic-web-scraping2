{
 "cells": [
  {
   "cell_type": "code",
   "execution_count": 2,
   "metadata": {},
   "outputs": [],
   "source": [
    "# import the libraries needed to find the website\n",
    "# and parse it\n",
    "import requests\n",
    "from bs4 import BeautifulSoup"
   ]
  },
  {
   "cell_type": "code",
   "execution_count": 3,
   "metadata": {},
   "outputs": [],
   "source": [
    "# create a variable to store the url of the target website,\n",
    "# retrieved using the get method from the requests library\n",
    "data = requests.get('https://ocw.mit.edu/courses/most-visited-courses/')"
   ]
  },
  {
   "cell_type": "code",
   "execution_count": 4,
   "metadata": {},
   "outputs": [],
   "source": [
    "# create a BeautifulSoup object, essentially a parsing tree,\n",
    "# with the contents of the webpage\n",
    "soup = BeautifulSoup(data.text, 'html.parser')"
   ]
  },
  {
   "cell_type": "code",
   "execution_count": 8,
   "metadata": {},
   "outputs": [],
   "source": [
    "# print a readable version of the parsed data\n",
    "print(soup.prettify())"
   ]
  },
  {
   "cell_type": "code",
   "execution_count": 10,
   "metadata": {},
   "outputs": [],
   "source": [
    "course_name_list = soup.find(class_='maintabletemplate')\n",
    "course_name_list_items = course_name_list.find_all('tr')\n",
    "\n",
    "for course_name in course_name_list_items:\n",
    "    print(course_name.text)\n"
   ]
  },
  {
   "cell_type": "code",
   "execution_count": 7,
   "metadata": {},
   "outputs": [],
   "source": [
    "# find the relevant table using the find method from BeautifulSoup,\n",
    "# ignore everything else\n",
    "course_table = soup.find('table', { 'class': 'courseList' })"
   ]
  },
  {
   "cell_type": "code",
   "execution_count": 8,
   "metadata": {},
   "outputs": [],
   "source": [
    "# find the heading of the relevant section using the find method from\n",
    "# BeautifulSoup, ignore everything else\n",
    "tbody = course_table.find('tbody')"
   ]
  },
  {
   "cell_type": "code",
   "execution_count": 9,
   "metadata": {},
   "outputs": [],
   "source": [
    "# for loop to capture the information from each course in turn\n",
    "# within the heading of the section identified as relevant, extract the text\n",
    "# related to each course, and strip out anything unnecessary\n",
    "for tr in tbody.find_all('tr'):\n",
    "# the course number will be the first item in the list, at position 0\n",
    "    course_num = tr.find_all('td')[0].text.strip()\n",
    "# the course title will be the second item in the list, at position 1\n",
    "    course_title = tr.find_all('td')[1].text.strip()\n",
    "# the course level will be the third item in the list, at position 2\n",
    "    course_level = tr.find_all('td')[2].text.strip()"
   ]
  },
  {
   "cell_type": "code",
   "execution_count": 10,
   "metadata": {},
   "outputs": [
    {
     "name": "stdout",
     "output_type": "stream",
     "text": [
      "18.S096 Topics in Mathematics with Applications in Finance Undergraduate\n"
     ]
    }
   ],
   "source": [
    "# print each course number, title and level\n",
    "print(course_num, course_title, course_level)"
   ]
  },
  {
   "cell_type": "code",
   "execution_count": null,
   "metadata": {},
   "outputs": [],
   "source": []
  }
 ],
 "metadata": {
  "kernelspec": {
   "display_name": "Python 3",
   "language": "python",
   "name": "python3"
  },
  "language_info": {
   "codemirror_mode": {
    "name": "ipython",
    "version": 3
   },
   "file_extension": ".py",
   "mimetype": "text/x-python",
   "name": "python",
   "nbconvert_exporter": "python",
   "pygments_lexer": "ipython3",
   "version": "3.6.4"
  }
 },
 "nbformat": 4,
 "nbformat_minor": 2
}
